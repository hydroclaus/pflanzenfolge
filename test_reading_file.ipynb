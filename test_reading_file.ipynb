{
 "cells": [
  {
   "cell_type": "code",
   "execution_count": 125,
   "id": "f5097d6c-7fb0-49f2-9fc5-f10f33fa49bb",
   "metadata": {},
   "outputs": [],
   "source": [
    "import numpy as np\n",
    "from itertools import permutations"
   ]
  },
  {
   "cell_type": "code",
   "execution_count": 126,
   "id": "9467c5ba-274a-420e-8436-43778f90e130",
   "metadata": {},
   "outputs": [],
   "source": [
    "suche_max_fuer = ['Tomate', 'Spargel', 'Mangold']"
   ]
  },
  {
   "cell_type": "markdown",
   "id": "daaa4357-fab0-422a-8cd7-0498a5abcafa",
   "metadata": {},
   "source": [
    "alle moeglichkeiten"
   ]
  },
  {
   "cell_type": "code",
   "execution_count": 127,
   "id": "21411e2d-520f-4007-a7e6-84cdf1f65ffc",
   "metadata": {},
   "outputs": [
    {
     "name": "stdout",
     "output_type": "stream",
     "text": [
      "('Tomate', 'Spargel', 'Mangold')\n",
      "('Tomate', 'Mangold', 'Spargel')\n",
      "('Spargel', 'Tomate', 'Mangold')\n",
      "('Spargel', 'Mangold', 'Tomate')\n",
      "('Mangold', 'Tomate', 'Spargel')\n",
      "('Mangold', 'Spargel', 'Tomate')\n"
     ]
    }
   ],
   "source": [
    "for i in list(permutations(suche_max_fuer)):\n",
    "    print(i)"
   ]
  },
  {
   "cell_type": "code",
   "execution_count": null,
   "id": "0b273aab-d7b6-4ff8-8912-157d91f2e799",
   "metadata": {},
   "outputs": [],
   "source": []
  },
  {
   "cell_type": "code",
   "execution_count": null,
   "id": "c6bb19ae-2881-4021-a663-18fee1849ac7",
   "metadata": {},
   "outputs": [],
   "source": []
  },
  {
   "cell_type": "code",
   "execution_count": 128,
   "id": "f9dd181c-69b9-4b92-b1cd-baa4e883ff2d",
   "metadata": {},
   "outputs": [],
   "source": [
    "fname = r'Pflanzenfolge_Tabelle.csv'"
   ]
  },
  {
   "cell_type": "code",
   "execution_count": 129,
   "id": "85a301f6-b521-43df-a1c2-c5e6d2f2c052",
   "metadata": {},
   "outputs": [
    {
     "name": "stdout",
     "output_type": "stream",
     "text": [
      "['Karotte' 'Spargel' 'Erbse' 'Radieschen' 'Tomate' 'Mangold']\n"
     ]
    }
   ],
   "source": [
    "gelistete_pflanzen = np.genfromtxt(fname,\n",
    "                                   delimiter=\",\",\n",
    "                                   dtype=None,\n",
    "                                   encoding=None)[0,1:]\n",
    "print(gelistete_pflanzen)"
   ]
  },
  {
   "cell_type": "code",
   "execution_count": 130,
   "id": "5870f849-ec65-48e1-8ac6-749ea587c098",
   "metadata": {},
   "outputs": [
    {
     "name": "stdout",
     "output_type": "stream",
     "text": [
      "[[ 1. nan nan nan nan nan]\n",
      " [ 0.  1. nan nan nan nan]\n",
      " [-1.  1.  0. nan nan nan]\n",
      " [ 1. -1.  1.  1. nan nan]\n",
      " [ 1.  0.  1. -1.  0. nan]]\n"
     ]
    }
   ],
   "source": [
    "pflanzen_uebergangs_matrix = np.genfromtxt(fname,\n",
    "                                           delimiter=\",\")[2:,1:]\n",
    "print(pflanzen_uebergangs_matrix)\n"
   ]
  },
  {
   "cell_type": "markdown",
   "id": "7279d0d2-2730-4cb2-ac11-a0ec7b107ff2",
   "metadata": {},
   "source": [
    "was sind die indices der Pflanzen die ich suche in uebergangs_matri"
   ]
  },
  {
   "cell_type": "code",
   "execution_count": 131,
   "id": "680c893c-593f-46e9-a260-3c1def80cdac",
   "metadata": {},
   "outputs": [
    {
     "data": {
      "text/plain": [
       "array([4, 1, 5])"
      ]
     },
     "execution_count": 131,
     "metadata": {},
     "output_type": "execute_result"
    }
   ],
   "source": [
    "sorter = np.argsort(gelistete_pflanzen)\n",
    "sorter[np.searchsorted(gelistete_pflanzen, suche_max_fuer, sorter=sorter)]"
   ]
  },
  {
   "cell_type": "code",
   "execution_count": 132,
   "id": "897ba754-2379-4323-8bbd-c28b8940536a",
   "metadata": {},
   "outputs": [
    {
     "name": "stdout",
     "output_type": "stream",
     "text": [
      "('Tomate', 'Spargel', 'Mangold')\n",
      "[4 1 5]\n",
      "('Tomate', 'Mangold', 'Spargel')\n",
      "[4 5 1]\n",
      "('Spargel', 'Tomate', 'Mangold')\n",
      "[1 4 5]\n",
      "('Spargel', 'Mangold', 'Tomate')\n",
      "[1 5 4]\n",
      "('Mangold', 'Tomate', 'Spargel')\n",
      "[5 4 1]\n",
      "('Mangold', 'Spargel', 'Tomate')\n",
      "[5 1 4]\n"
     ]
    }
   ],
   "source": [
    "for i in list(permutations(suche_max_fuer)):\n",
    "    print(i)\n",
    "    sorter = np.argsort(gelistete_pflanzen)\n",
    "    indices = sorter[np.searchsorted(gelistete_pflanzen, i, sorter=sorter)]\n",
    "    print(indices)"
   ]
  },
  {
   "cell_type": "code",
   "execution_count": 133,
   "id": "d7bd6256-f1d8-446e-a6d6-01496a09dbc0",
   "metadata": {},
   "outputs": [
    {
     "data": {
      "text/plain": [
       "array([5, 1, 4])"
      ]
     },
     "execution_count": 133,
     "metadata": {},
     "output_type": "execute_result"
    }
   ],
   "source": [
    "indices"
   ]
  },
  {
   "cell_type": "code",
   "execution_count": 134,
   "id": "72e42122-db62-45ab-aa80-76d0413fc178",
   "metadata": {},
   "outputs": [
    {
     "data": {
      "text/plain": [
       "0.0"
      ]
     },
     "execution_count": 134,
     "metadata": {},
     "output_type": "execute_result"
    }
   ],
   "source": [
    "pflanzen_uebergangs_matrix[5-1,4]"
   ]
  },
  {
   "cell_type": "code",
   "execution_count": 135,
   "id": "54039996-2245-4121-9705-864c30a9120e",
   "metadata": {},
   "outputs": [
    {
     "name": "stdout",
     "output_type": "stream",
     "text": [
      "4 1\n",
      "0.0\n",
      "---\n",
      "0 4\n",
      "nan\n",
      "---\n"
     ]
    }
   ],
   "source": [
    "n = len(i)\n",
    "for ix in range(0,n-1):\n",
    "    print(indices[ix]-1, indices[ix+1])\n",
    "    print(pflanzen_uebergangs_matrix[indices[ix]-1,indices[ix+1]])\n",
    "    print(\"---\")"
   ]
  },
  {
   "cell_type": "code",
   "execution_count": 136,
   "id": "306313c3-07a2-45fe-91dc-de9391d9eb42",
   "metadata": {},
   "outputs": [
    {
     "data": {
      "text/plain": [
       "('Mangold', 'Spargel', 'Tomate')"
      ]
     },
     "execution_count": 136,
     "metadata": {},
     "output_type": "execute_result"
    }
   ],
   "source": [
    "i"
   ]
  },
  {
   "cell_type": "code",
   "execution_count": 137,
   "id": "b4bdc127-3d05-4c24-99b1-ebdd7c7dfb59",
   "metadata": {},
   "outputs": [
    {
     "data": {
      "text/plain": [
       "1"
      ]
     },
     "execution_count": 137,
     "metadata": {},
     "output_type": "execute_result"
    }
   ],
   "source": [
    "indices[ix]"
   ]
  },
  {
   "cell_type": "code",
   "execution_count": 138,
   "id": "fe66aef6-bb76-4d58-afa0-ffb977563460",
   "metadata": {},
   "outputs": [
    {
     "data": {
      "text/plain": [
       "4"
      ]
     },
     "execution_count": 138,
     "metadata": {},
     "output_type": "execute_result"
    }
   ],
   "source": [
    "indices[ix+1]"
   ]
  },
  {
   "cell_type": "code",
   "execution_count": 161,
   "id": "58f61f11-bbf9-4a5d-b0dc-39edde855612",
   "metadata": {},
   "outputs": [
    {
     "name": "stdout",
     "output_type": "stream",
     "text": [
      "4 1\n",
      "0.0\n",
      "True\n",
      "0.0\n",
      "---\n",
      "0 4\n",
      "nan\n",
      "False\n",
      "-1.0\n",
      "---\n"
     ]
    }
   ],
   "source": [
    "n = len(i)\n",
    "for ix in range(0,n-1):\n",
    "    print(indices[ix]-1, indices[ix+1])\n",
    "    print(pflanzen_uebergangs_matrix[indices[ix]-1,indices[ix+1]])\n",
    "    print(np.isfinite(pflanzen_uebergangs_matrix[indices[ix]-1, indices[ix+1]]))\n",
    "    if np.isfinite(pflanzen_uebergangs_matrix[indices[ix]-1, indices[ix+1]]):\n",
    "        cur_val = pflanzen_uebergangs_matrix[indices[ix]-1, indices[ix+1]]        \n",
    "    else:\n",
    "        cur_val = pflanzen_uebergangs_matrix[indices[ix+1]-1, indices[ix]]\n",
    "    print(cur_val)\n",
    "    print(\"---\")\n"
   ]
  },
  {
   "cell_type": "code",
   "execution_count": 151,
   "id": "d38ddabb-2578-451e-8a37-c63e35aac8e3",
   "metadata": {},
   "outputs": [
    {
     "data": {
      "text/plain": [
       "nan"
      ]
     },
     "execution_count": 151,
     "metadata": {},
     "output_type": "execute_result"
    }
   ],
   "source": [
    "cur_val"
   ]
  },
  {
   "cell_type": "code",
   "execution_count": 148,
   "id": "74cd96ae-7166-4e62-9f0a-d90b1a2225c1",
   "metadata": {},
   "outputs": [
    {
     "data": {
      "text/plain": [
       "nan"
      ]
     },
     "execution_count": 148,
     "metadata": {},
     "output_type": "execute_result"
    }
   ],
   "source": [
    "pflanzen_uebergangs_matrix[indices[ix]-1, indices[ix+1]]"
   ]
  },
  {
   "cell_type": "code",
   "execution_count": 94,
   "id": "1a042984-556c-4e85-aad9-2ddfad3418de",
   "metadata": {},
   "outputs": [
    {
     "data": {
      "text/plain": [
       "1.0"
      ]
     },
     "execution_count": 94,
     "metadata": {},
     "output_type": "execute_result"
    }
   ],
   "source": [
    "pflanzen_uebergangs_matrix[indices[ix+1], indices[ix]-1]"
   ]
  },
  {
   "cell_type": "code",
   "execution_count": 101,
   "id": "da48fafb-fbcf-4a09-8e3b-f542e8cf66ff",
   "metadata": {},
   "outputs": [
    {
     "data": {
      "text/plain": [
       "0.0"
      ]
     },
     "execution_count": 101,
     "metadata": {},
     "output_type": "execute_result"
    }
   ],
   "source": [
    "# 'Mangold', 'Spargel'\n",
    "# 5, 1\n",
    "pflanzen_uebergangs_matrix[5-1,1]"
   ]
  },
  {
   "cell_type": "code",
   "execution_count": 103,
   "id": "28d4e9dd-c940-4d1e-9bb6-ef4d09d08a6a",
   "metadata": {},
   "outputs": [
    {
     "data": {
      "text/plain": [
       "-1.0"
      ]
     },
     "execution_count": 103,
     "metadata": {},
     "output_type": "execute_result"
    }
   ],
   "source": [
    "# 'Spargel', 'Tomate'\n",
    "# 1, 4\n",
    "pflanzen_uebergangs_matrix[4-1, 1]"
   ]
  },
  {
   "cell_type": "code",
   "execution_count": 172,
   "id": "ea55c8d2-58f6-464e-b388-55f8cc28c284",
   "metadata": {},
   "outputs": [],
   "source": [
    "def calc_performance_this_series(indices):\n",
    "    n = len(i)\n",
    "    this_series = 0\n",
    "    for ix in range(0,n-1):\n",
    "        # print(indices[ix]-1, indices[ix+1])\n",
    "        # print(pflanzen_uebergangs_matrix[indices[ix]-1,indices[ix+1]])\n",
    "        # print(np.isfinite(pflanzen_uebergangs_matrix[indices[ix]-1, indices[ix+1]]))\n",
    "        if np.isfinite(pflanzen_uebergangs_matrix[indices[ix]-1, indices[ix+1]]):\n",
    "            cur_val = pflanzen_uebergangs_matrix[indices[ix]-1, indices[ix+1]]        \n",
    "        else:\n",
    "            cur_val = pflanzen_uebergangs_matrix[indices[ix+1]-1, indices[ix]]\n",
    "        this_series += cur_val\n",
    "        #print(cur_val)\n",
    "        #print(\"---\")\n",
    "    print(this_series)\n",
    "    return this_series"
   ]
  },
  {
   "cell_type": "code",
   "execution_count": 174,
   "id": "35ff9808-0cfc-4c01-90bb-ec0ab55a2e62",
   "metadata": {},
   "outputs": [
    {
     "name": "stdout",
     "output_type": "stream",
     "text": [
      "('Tomate', 'Spargel', 'Mangold')\n",
      "-1.0\n",
      "('Tomate', 'Mangold', 'Spargel')\n",
      "0.0\n",
      "('Spargel', 'Tomate', 'Mangold')\n",
      "-1.0\n",
      "('Spargel', 'Mangold', 'Tomate')\n",
      "0.0\n",
      "('Mangold', 'Tomate', 'Spargel')\n",
      "-1.0\n",
      "('Mangold', 'Spargel', 'Tomate')\n",
      "-1.0\n"
     ]
    }
   ],
   "source": [
    "for i in list(permutations(suche_max_fuer)):\n",
    "    print(i)\n",
    "    sorter = np.argsort(gelistete_pflanzen)\n",
    "    indices = sorter[np.searchsorted(gelistete_pflanzen, i, sorter=sorter)]\n",
    "    #print(indices)\n",
    "    calc_performance_this_series(indices)"
   ]
  },
  {
   "cell_type": "code",
   "execution_count": null,
   "id": "c94bb6f5-f2e3-4bea-a5f1-2e939e168ff2",
   "metadata": {},
   "outputs": [],
   "source": []
  },
  {
   "cell_type": "code",
   "execution_count": null,
   "id": "2b721d4f-915d-41cd-b779-46775ed153e0",
   "metadata": {},
   "outputs": [],
   "source": []
  },
  {
   "cell_type": "code",
   "execution_count": null,
   "id": "0905bcd7-cd56-48ce-b190-18c6f355b15c",
   "metadata": {},
   "outputs": [],
   "source": []
  },
  {
   "cell_type": "code",
   "execution_count": null,
   "id": "5e5af90d-fa92-41f9-a25b-219c66c9d026",
   "metadata": {},
   "outputs": [],
   "source": []
  },
  {
   "cell_type": "code",
   "execution_count": null,
   "id": "3e24391a-b1a3-46bc-bd40-964234bd385f",
   "metadata": {},
   "outputs": [],
   "source": []
  },
  {
   "cell_type": "code",
   "execution_count": null,
   "id": "fde48ada-1d75-4ad2-ba0e-8c3bd302a8df",
   "metadata": {},
   "outputs": [],
   "source": []
  },
  {
   "cell_type": "code",
   "execution_count": null,
   "id": "6eef12aa-18cf-4ac0-9bec-8439a27ebc73",
   "metadata": {},
   "outputs": [],
   "source": []
  },
  {
   "cell_type": "code",
   "execution_count": null,
   "id": "a349a973-d875-4666-a604-7afff22273a2",
   "metadata": {},
   "outputs": [],
   "source": []
  }
 ],
 "metadata": {
  "kernelspec": {
   "display_name": "Python 3 (ipykernel)",
   "language": "python",
   "name": "python3"
  },
  "language_info": {
   "codemirror_mode": {
    "name": "ipython",
    "version": 3
   },
   "file_extension": ".py",
   "mimetype": "text/x-python",
   "name": "python",
   "nbconvert_exporter": "python",
   "pygments_lexer": "ipython3",
   "version": "3.9.7"
  }
 },
 "nbformat": 4,
 "nbformat_minor": 5
}
